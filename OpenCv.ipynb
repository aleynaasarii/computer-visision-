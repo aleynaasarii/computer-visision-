{
 "cells": [
  {
   "cell_type": "markdown",
   "id": "a90db1ba-6346-456c-b18f-a494c03a7eef",
   "metadata": {},
   "source": [
    "# Computer Vision\n",
    "\n",
    "Computer vision, bilgisayarların dijital görüntülerini algılamasını,işlemesini ve anlamasını sağlayan bir alanıdır.Bu alan,kameralardan elde edilen görüntüler üzerinde işlem yaparak nesneleri tanıma,yüzleri tanıma,hareketi algılama ve daha birçok görsel bilgiyi çıkarma yeteneğine odaklanır.Genellikle yapay zeka ve makine öğrenimi tekniklerini kullanarak bu işlemleri gerçekleştirir.Örneğin otonom araçlar,tıbbi görüntüleme sistemleri,güvenlik sistemleri ve sanal gerçeklik gibi birçok alanda computer vision teknolojileri kullanılır."
   ]
  },
  {
   "cell_type": "markdown",
   "id": "ebfa1415-77ef-4991-9a36-5cfa1cb92932",
   "metadata": {},
   "source": [
    "### OpenCv Kütüphanesi Kullanımı\n",
    "OpenCv kütüphanesi kullanarak aşağıdaki işlemler yapılabilir:\n",
    "\n",
    "1- Görüntü  İşleme: OpenCv, görüntüleri açma,kaydetme,dönüştürme,yeniden boyutlandırma,kesme,döndürme gibi temel işlemleri gerçekleştirebilir.\n",
    "2- Renk Uzayı Dönüşümleri: OpenCv, görüntüleri farklı renk uzayları arasında dönüştürebilir. Örneğin RGB,HSV,LAB,YUV gibi renk uzaylarında işlem yapabilir.\n",
    "3- Filtreleme: OpenCv, görüntüler üzerinde çeşitli filtreleme teknikleri uygulayabilir. Örneğin ortalama,medyan,Gauss,Laplacian,Sobel filtresi gibi filtreler kullanarak görüntüleri yumuşatabilir,kenarları belirleyebilir veya gürültüyü azaltabilir.\n",
    "4- Nesne Algılama ve Takibi: OpenCv, nesne algılama ve takibi için kullanılan bir dizi algoritma ve yöntem sunar. Örneğin yüz algılama,nesne tanıma,hareket algılama,takip gibi işlemleri gerçekleştirebilir.\n",
    "5- Görüntü Özellik Çıkarımı: OpenCv, görüntülerden özellikler çıkarmak için kullanılan bir dizi algoritma sunar. Örneğin HOG,SIFT,SURF gibi algoritmaları kullanarak görüntülerdeki önemli noktaları ve desenleri tespit edebilir.\n",
    "6- Kamera ve Video İşleme: OpenCv, bilgisayar kameralarını kullanarak görüntü yakalama,video kaydetme,gerçek zamanlı görüntü işleme gibi işlemleri gerçekleştirebilir.\n",
    "7- Yüz Tanıma: OpenCv, yüz tanıma için çeşitli algoritmalar ve yöntemler sunar. Örneğin Haar Cascade,LBPH,Eigenfaces,Fisherfaces gibi yöntemleri kullanarak yüzleri tanıyabilir."
   ]
  },
  {
   "cell_type": "markdown",
   "id": "bf8597a7-af19-4875-9ea5-9fb77b63b804",
   "metadata": {},
   "source": [
    "### 0- Kütüphanenin kurulumu"
   ]
  },
  {
   "cell_type": "code",
   "execution_count": null,
   "id": "e8300d50-497c-42e1-ac2b-cc458bffa579",
   "metadata": {},
   "outputs": [],
   "source": [
    "pip install OpenCv-Python\n",
    "# Python için OpenCv kütüphanesini kurmak için kullanılan bir PIP(Python Paket Yöneticisi) komutudur.\n",
    "# install komutu, belirtilen paketin indirilmesini ve kurulmasını sağlar."
   ]
  },
  {
   "cell_type": "markdown",
   "id": "3a012d5b-7d9d-4b64-82fd-0539628cd9ab",
   "metadata": {},
   "source": [
    "### 1- Görüntü Okuma ve Yazma"
   ]
  },
  {
   "cell_type": "code",
   "execution_count": null,
   "id": "16af5290-9980-42ea-86f9-c4266926ae24",
   "metadata": {},
   "outputs": [],
   "source": [
    "import cv2\n",
    "#Görüntüyü okur\n",
    "image = cv2.imread(\"kahveresmi.jpg\")\n",
    "\n",
    "#Görüntüyü ekranda gösterir\n",
    "cv2.imshow(\"kahve resmi\", image)\n",
    "\n",
    "#Kullanıcı kapatana kadar bekletir\n",
    "cv2.waitKey(0)\n",
    "\n",
    "#Pencereyi kapatır\n",
    "cv2.destroyAllWindows()\n",
    "\n",
    "#Görüntüyü ters çevirir\n",
    "flipped_image = cv2.flip(image, 1)\n",
    "\n",
    "#Ters çevrilmiş görüntüyü kaydeder\n",
    "cv2.imwrite(\"flipped_kahveresmi.jpg\", flipped_image)\n",
    "\n",
    "\n",
    "\n"
   ]
  },
  {
   "cell_type": "markdown",
   "id": "474f1e1f-1f51-4097-b13b-2997d2f13464",
   "metadata": {},
   "source": [
    "### 2- Görüntü İşleme/ A.Gri Tona Dönüştürme"
   ]
  },
  {
   "cell_type": "code",
   "execution_count": null,
   "id": "3be2c9b7-6708-4de3-9ab5-215ce741fef0",
   "metadata": {},
   "outputs": [],
   "source": [
    "import cv2\n",
    "#Görüntüyü okur\n",
    "image = cv2.imread(\"kahveresmi.jpg\")\n",
    "\n",
    "#Görüntüyü gri tona dönüştürür\n",
    "gray_image = cv2.cvtColor(image, cv2.COLOR_BGR2GRAY)\n",
    "\n",
    "#Görüntüyü ekranda gösterir\n",
    "cv2.imshow(\"Gray Image\", gray_image)\n",
    "\n",
    "#Kullanıcı kapatana kadar bekletir\n",
    "cv2.waitKey(0)\n",
    "\n",
    "#Pencereyi kapatır\n",
    "cv2.destroyAllWindows()\n",
    "\n",
    "\n",
    "\n"
   ]
  },
  {
   "cell_type": "markdown",
   "id": "1384bf1c-b05d-4ff2-a44b-0740b99eba31",
   "metadata": {},
   "source": [
    "### B.Görüntüye filtre uygulama (Bulanıklaştırma)"
   ]
  },
  {
   "cell_type": "code",
   "execution_count": null,
   "id": "b265a851-406a-49c5-af2f-3e8cfaf6087f",
   "metadata": {},
   "outputs": [],
   "source": [
    "import cv2\n",
    "#Görüntüyü okur\n",
    "image = cv2.imread(\"kahveresmi.jpg\")\n",
    "\n",
    "#Görüntüye bulanıklaştırma filtresi uygular\n",
    "blurred_image = cv2.GaussianBlur(image, (8, 8), 0)\n",
    "\n",
    "#Bulanıklaştırılmış görüntüyü ekranda gösterir\n",
    "cv2.imshow(\"Blurred Image\", blurred_image)\n",
    "\n",
    "#Kullanıcı kapatana kadar bekletir\n",
    "cv2.waitKey(0)\n",
    "\n",
    "#Pencereyi kapatır\n",
    "cv2.destroyAllWindows()\n",
    "\n",
    "\n"
   ]
  },
  {
   "cell_type": "markdown",
   "id": "9513538a",
   "metadata": {},
   "source": [
    "### C.Kenar Tespiti"
   ]
  },
  {
   "cell_type": "code",
   "execution_count": null,
   "id": "1f8e4f00-3502-461b-aadf-2b4f2b72b9d7",
   "metadata": {},
   "outputs": [],
   "source": [
    "import cv2\n",
    "#Görüntüyü okur\n",
    "image = cv2.imread(\"kahveresmi.jpg\")\n",
    "\n",
    "#Görüntüyü gri tona dönüştürür\n",
    "gray_image = cv2.cvtColor(image, cv2.COLOR_BGR2GRAY)\n",
    "\n",
    "#Kenarları tespit eder\n",
    "edges = cv2.Canny(gray_image, 150, 250)\n",
    "\n",
    "#Kenarları ekranda gösterir\n",
    "cv2.imshow(\"Edges\", edges)\n",
    "\n",
    "#Kullanıcı kapatana kadar bekletir\n",
    "cv2.waitKey(0)\n",
    "\n",
    "#Pencereyi kapatır\n",
    "cv2.destroyAllWindows()"
   ]
  },
  {
   "cell_type": "markdown",
   "id": "7a66b1ef",
   "metadata": {},
   "source": [
    "### 3- Özellik Çıkarımı / A.HOG"
   ]
  },
  {
   "cell_type": "code",
   "execution_count": null,
   "id": "cdd6cedb-70b0-4b92-bb7e-406f08523a2e",
   "metadata": {},
   "outputs": [],
   "source": [
    "import cv2\n",
    "#Görüntüyü okur\n",
    "image = cv2.imread(\"kahveresmi.jpg\")\n",
    "\n",
    "#HOG nesnesini oluşturur\n",
    "hog = cv2.HOGDescriptor()\n",
    "\n",
    "#Özellliklerini hesapla\n",
    "features = hog.compute(image)\n",
    "\n",
    "#Özellikleri kullanarak  nesne tanıma veya diğer işlemleri gerçekleştirir."
   ]
  },
  {
   "cell_type": "markdown",
   "id": "4ee6fbc2",
   "metadata": {},
   "source": [
    "### B.ORB"
   ]
  },
  {
   "cell_type": "code",
   "execution_count": null,
   "id": "5cc6ca5b-4cdb-4c00-bb8f-4f372fe40855",
   "metadata": {},
   "outputs": [],
   "source": [
    "import cv2\n",
    "#Görüntüyü okur\n",
    "image = cv2.imread(\"kahveresmi.jpg\")\n",
    "\n",
    "#ORB nesnesini oluşturur\n",
    "orb = cv2.ORB_create()\n",
    "\n",
    "#Anahtar noktaları ve açıklıkları bulur\n",
    "keypoints, descriptors= orb.detectAndCompute(image, None)\n",
    "\n",
    "#Bulunan anahtar noktaları ve açıklıkları kullanarak nesne tanıma veya eşleştirme yapılır."
   ]
  },
  {
   "cell_type": "markdown",
   "id": "091377d2",
   "metadata": {},
   "source": [
    "### C.SIFT\n"
   ]
  },
  {
   "cell_type": "code",
   "execution_count": null,
   "id": "1b421299-93ba-4bd3-b834-9b7e6a312c1e",
   "metadata": {},
   "outputs": [],
   "source": [
    "import cv2\n",
    "#Görüntüyü okur\n",
    "image = cv2.imread(\"kahveresmi.jpg\")\n",
    "\n",
    "#SIFT nesnesini oluşturur\n",
    "sift = cv2.SIFT_create()\n",
    "\n",
    "#Anahtar noktaları ve açıklıkları bulur\n",
    "keypoints, descriptors= sift.detectAndCompute(image, None)\n",
    "\n",
    "#Bulunan anahtar noktaları ve açıklıkları kullanarak nesne tanıma veya eşleştirme yapılır."
   ]
  },
  {
   "cell_type": "markdown",
   "id": "53bcc827",
   "metadata": {},
   "source": [
    "### 4-Görüntü Üzerine Çizim ve Metin Ekleme "
   ]
  },
  {
   "cell_type": "markdown",
   "id": "763784c8",
   "metadata": {},
   "source": [
    "### Dikdörtgen çizme\n"
   ]
  },
  {
   "cell_type": "code",
   "execution_count": null,
   "id": "780699fa-ba1e-4afe-98ed-cca0059e16de",
   "metadata": {},
   "outputs": [],
   "source": [
    "import cv2\n",
    "#Görüntüyü okur\n",
    "image = cv2.imread(\"kahveresmi.jpg\")\n",
    "\n",
    "#Dikdörtgen çizimi için başlangıç ve bitiş noktalarını belirler\n",
    "start_point =(100, 100)\n",
    "end_point =(300, 300)\n",
    "\n",
    "#Dikdörtgen rengi ve kalınlığı\n",
    "color = (139, 69, 19)\n",
    "thickness = 4\n",
    "\n",
    "#Dikdörtgeni çizer\n",
    "cv2.rectangle(image, start_point, end_point, color, thickness)\n",
    "\n",
    "#Sonuçları ekranda gösterir\n",
    "cv2.imshow(\"Rectangle\", image)\n",
    "\n",
    "#Kullanıcı kapatana kadar bekletir\n",
    "cv2.waitKey(0)\n",
    "\n",
    "#Pencereyi kapatır\n",
    "cv2.destroyAllWindows()\n"
   ]
  },
  {
   "cell_type": "markdown",
   "id": "2018a5ba",
   "metadata": {},
   "source": [
    "### Metin Ekleme"
   ]
  },
  {
   "cell_type": "code",
   "execution_count": null,
   "id": "f4392b19-df68-4bf0-8974-6baead62cb74",
   "metadata": {},
   "outputs": [],
   "source": [
    "import cv2\n",
    "#Görüntüyü okur\n",
    "image = cv2.imread(\"kahveresmi.jpg\")\n",
    "\n",
    "#Eklemek istediğiniz metin ve konumu belirler\n",
    "text = \"Merhaba, Güzel Gün\"\n",
    "org = (60, 60) #Metnin başlangıç konumu\n",
    "font =  cv2.FONT_HERSHEY_SIMPLEX\n",
    "font_scale = 1\n",
    "color = (139, 69, 19)\n",
    "thickness = 2\n",
    "\n",
    "#Metni görüntüye ekle\n",
    "cv2.putText(image, text, org, font, font_scale, color, thickness)\n",
    "\n",
    "#Sonuçları ekranda gösterir\n",
    "cv2.imshow(\"Text\", image)\n",
    "\n",
    "#Kullanıcı kapatana kadar bekletir\n",
    "cv2.waitKey(0)\n",
    "\n",
    "#Pencereyi kapatır\n",
    "cv2.destroyAllWindows()"
   ]
  },
  {
   "cell_type": "code",
   "execution_count": null,
   "id": "42a66bc3-468c-44c7-ace2-f83b2d611b61",
   "metadata": {},
   "outputs": [],
   "source": []
  },
  {
   "cell_type": "code",
   "execution_count": null,
   "id": "39071b4b-7e50-4920-945c-8af91e227959",
   "metadata": {},
   "outputs": [],
   "source": []
  },
  {
   "cell_type": "code",
   "execution_count": null,
   "id": "947cfdb4-7757-408b-a599-bf40a73330b4",
   "metadata": {},
   "outputs": [],
   "source": []
  },
  {
   "cell_type": "code",
   "execution_count": null,
   "id": "fffc23d4-6bc7-412e-b776-cde8891ec8a7",
   "metadata": {},
   "outputs": [],
   "source": []
  }
 ],
 "metadata": {
  "kernelspec": {
   "display_name": "Python 3 (ipykernel)",
   "language": "python",
   "name": "python3"
  },
  "language_info": {
   "codemirror_mode": {
    "name": "ipython",
    "version": 3
   },
   "file_extension": ".py",
   "mimetype": "text/x-python",
   "name": "python",
   "nbconvert_exporter": "python",
   "pygments_lexer": "ipython3",
   "version": "3.11.3"
  }
 },
 "nbformat": 4,
 "nbformat_minor": 5
}
